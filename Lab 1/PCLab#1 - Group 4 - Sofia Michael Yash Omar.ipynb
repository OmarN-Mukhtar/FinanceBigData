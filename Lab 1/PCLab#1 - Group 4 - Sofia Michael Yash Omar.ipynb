{
 "cells": [
  {
   "cell_type": "markdown",
   "id": "6c0e66c7",
   "metadata": {},
   "source": [
    "# PC Lab 1 - Applied Portfolio Theory - Group 4 - Sofia, Michael, Yash, Omar"
   ]
  },
  {
   "cell_type": "markdown",
   "id": "66e427e3",
   "metadata": {},
   "source": [
    "## Imports"
   ]
  },
  {
   "cell_type": "code",
   "execution_count": null,
   "id": "205cb442",
   "metadata": {},
   "outputs": [],
   "source": []
  }
 ],
 "metadata": {
  "language_info": {
   "name": "python"
  }
 },
 "nbformat": 4,
 "nbformat_minor": 5
}
